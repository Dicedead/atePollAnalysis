{
 "cells": [
  {
   "cell_type": "code",
   "id": "initial_id",
   "metadata": {
    "collapsed": true,
    "ExecuteTime": {
     "end_time": "2024-05-29T15:03:11.914965Z",
     "start_time": "2024-05-29T15:03:11.911586Z"
    }
   },
   "source": [
    "import pandas as pd\n",
    "import statsmodels.api as sm\n",
    "import scipy.stats as stats\n",
    "import seaborn as sns\n",
    "import matplotlib.pyplot as plt\n",
    "import numpy as np"
   ],
   "outputs": [],
   "execution_count": 21
  },
  {
   "metadata": {
    "ExecuteTime": {
     "end_time": "2024-05-29T14:51:10.746393Z",
     "start_time": "2024-05-29T14:51:10.731185Z"
    }
   },
   "cell_type": "code",
   "source": [
    "df = pd.read_csv(\"../res/data.csv\")\n",
    "df.head(5)"
   ],
   "id": "734b793fba861ecd",
   "outputs": [
    {
     "data": {
      "text/plain": [
       "            Horodateur  \\\n",
       "0  29/05/2024 09:54:38   \n",
       "1  29/05/2024 09:54:42   \n",
       "2  29/05/2024 09:54:43   \n",
       "3  29/05/2024 09:54:51   \n",
       "4  29/05/2024 09:54:57   \n",
       "\n",
       "  Question sur la nationalité // Question about nationality  \\\n",
       "0  Je n'ai pas la nationalité suisse mais j'ai un...          \n",
       "1  Je n'ai ni de nationalité suisse ni de nationa...          \n",
       "2  Je n'ai pas la nationalité suisse mais j'ai un...          \n",
       "3  Je n'ai ni de nationalité suisse ni de nationa...          \n",
       "4  Je n'ai pas la nationalité suisse mais j'ai un...          \n",
       "\n",
       "  Question sur le diplôme d'études secondaires suisse // Question about the high school diploma  \\\n",
       "0  Je n'ai pas de diplôme suisse mais j'ai un dip...                                              \n",
       "1  Je n'ai ni diplôme suisse ni diplôme européen ...                                              \n",
       "2  Je n'ai pas de diplôme suisse mais j'ai un dip...                                              \n",
       "3  Je n'ai pas de diplôme suisse mais j'ai un dip...                                              \n",
       "4  Je n'ai pas de diplôme suisse mais j'ai un dip...                                              \n",
       "\n",
       "  Conséquences - Si les taxes d’études devaient augmenter, devrais-tu travailler à côté des études ? // If tuition fees were to increase, would you need to work alongside your studies?   \\\n",
       "0                                                Oui                                                                                                                                        \n",
       "1                                                Oui                                                                                                                                        \n",
       "2                                                Oui                                                                                                                                        \n",
       "3                                                Oui                                                                                                                                        \n",
       "4                                    Je le fais déjà                                                                                                                                        \n",
       "\n",
       "   Niveau d’augmentation - Serais-tu venu·e à l'EPFL si les taxes d'étude étaient 3 fois plus grandes ? // Would you have come to EPFL if tuition fees were 3 times bigger?   \\\n",
       "0                                                3.0                                                                                                                           \n",
       "1                                                4.0                                                                                                                           \n",
       "2                                                1.0                                                                                                                           \n",
       "3                                                5.0                                                                                                                           \n",
       "4                                                1.0                                                                                                                           \n",
       "\n",
       "   Niveau d’augmentation - A partir de quel facteur d’augmentation est-ce qu’une augmentation des taxes d’études aurait un impact sur ton mode de vie ? // From what factor of increase would a rise in tuition fees impact your lifestyle?   \\\n",
       "0                                                2.0                                                                                                                                                                                           \n",
       "1                                                1.0                                                                                                                                                                                           \n",
       "2                                                2.0                                                                                                                                                                                           \n",
       "3                                                3.0                                                                                                                                                                                           \n",
       "4                                                5.0                                                                                                                                                                                           \n",
       "\n",
       "   Opinion - Est-ce que tu es d'accord avec la proposition de triplement des taxes d'étude pour les étudiant·e·s étranger·ère·s ? // Do you agree with the proposal to triple the tuition fees for international students?  \\\n",
       "0                                                1.0                                                                                                                                                                         \n",
       "1                                                5.0                                                                                                                                                                         \n",
       "2                                                1.0                                                                                                                                                                         \n",
       "3                                                1.0                                                                                                                                                                         \n",
       "4                                                1.0                                                                                                                                                                         \n",
       "\n",
       "  Remarques sur la proposition // Remarks on the proposition  \\\n",
       "0                                                NaN           \n",
       "1                                                NaN           \n",
       "2                                                NaN           \n",
       "3                                                NaN           \n",
       "4                                                NaN           \n",
       "\n",
       "  Remarques diverses // Misc remarks  \n",
       "0                                NaN  \n",
       "1                                NaN  \n",
       "2                                NaN  \n",
       "3                                NaN  \n",
       "4                                NaN  "
      ],
      "text/html": [
       "<div>\n",
       "<style scoped>\n",
       "    .dataframe tbody tr th:only-of-type {\n",
       "        vertical-align: middle;\n",
       "    }\n",
       "\n",
       "    .dataframe tbody tr th {\n",
       "        vertical-align: top;\n",
       "    }\n",
       "\n",
       "    .dataframe thead th {\n",
       "        text-align: right;\n",
       "    }\n",
       "</style>\n",
       "<table border=\"1\" class=\"dataframe\">\n",
       "  <thead>\n",
       "    <tr style=\"text-align: right;\">\n",
       "      <th></th>\n",
       "      <th>Horodateur</th>\n",
       "      <th>Question sur la nationalité // Question about nationality</th>\n",
       "      <th>Question sur le diplôme d'études secondaires suisse // Question about the high school diploma</th>\n",
       "      <th>Conséquences - Si les taxes d’études devaient augmenter, devrais-tu travailler à côté des études ? // If tuition fees were to increase, would you need to work alongside your studies?</th>\n",
       "      <th>Niveau d’augmentation - Serais-tu venu·e à l'EPFL si les taxes d'étude étaient 3 fois plus grandes ? // Would you have come to EPFL if tuition fees were 3 times bigger?</th>\n",
       "      <th>Niveau d’augmentation - A partir de quel facteur d’augmentation est-ce qu’une augmentation des taxes d’études aurait un impact sur ton mode de vie ? // From what factor of increase would a rise in tuition fees impact your lifestyle?</th>\n",
       "      <th>Opinion - Est-ce que tu es d'accord avec la proposition de triplement des taxes d'étude pour les étudiant·e·s étranger·ère·s ? // Do you agree with the proposal to triple the tuition fees for international students?</th>\n",
       "      <th>Remarques sur la proposition // Remarks on the proposition</th>\n",
       "      <th>Remarques diverses // Misc remarks</th>\n",
       "    </tr>\n",
       "  </thead>\n",
       "  <tbody>\n",
       "    <tr>\n",
       "      <th>0</th>\n",
       "      <td>29/05/2024 09:54:38</td>\n",
       "      <td>Je n'ai pas la nationalité suisse mais j'ai un...</td>\n",
       "      <td>Je n'ai pas de diplôme suisse mais j'ai un dip...</td>\n",
       "      <td>Oui</td>\n",
       "      <td>3.0</td>\n",
       "      <td>2.0</td>\n",
       "      <td>1.0</td>\n",
       "      <td>NaN</td>\n",
       "      <td>NaN</td>\n",
       "    </tr>\n",
       "    <tr>\n",
       "      <th>1</th>\n",
       "      <td>29/05/2024 09:54:42</td>\n",
       "      <td>Je n'ai ni de nationalité suisse ni de nationa...</td>\n",
       "      <td>Je n'ai ni diplôme suisse ni diplôme européen ...</td>\n",
       "      <td>Oui</td>\n",
       "      <td>4.0</td>\n",
       "      <td>1.0</td>\n",
       "      <td>5.0</td>\n",
       "      <td>NaN</td>\n",
       "      <td>NaN</td>\n",
       "    </tr>\n",
       "    <tr>\n",
       "      <th>2</th>\n",
       "      <td>29/05/2024 09:54:43</td>\n",
       "      <td>Je n'ai pas la nationalité suisse mais j'ai un...</td>\n",
       "      <td>Je n'ai pas de diplôme suisse mais j'ai un dip...</td>\n",
       "      <td>Oui</td>\n",
       "      <td>1.0</td>\n",
       "      <td>2.0</td>\n",
       "      <td>1.0</td>\n",
       "      <td>NaN</td>\n",
       "      <td>NaN</td>\n",
       "    </tr>\n",
       "    <tr>\n",
       "      <th>3</th>\n",
       "      <td>29/05/2024 09:54:51</td>\n",
       "      <td>Je n'ai ni de nationalité suisse ni de nationa...</td>\n",
       "      <td>Je n'ai pas de diplôme suisse mais j'ai un dip...</td>\n",
       "      <td>Oui</td>\n",
       "      <td>5.0</td>\n",
       "      <td>3.0</td>\n",
       "      <td>1.0</td>\n",
       "      <td>NaN</td>\n",
       "      <td>NaN</td>\n",
       "    </tr>\n",
       "    <tr>\n",
       "      <th>4</th>\n",
       "      <td>29/05/2024 09:54:57</td>\n",
       "      <td>Je n'ai pas la nationalité suisse mais j'ai un...</td>\n",
       "      <td>Je n'ai pas de diplôme suisse mais j'ai un dip...</td>\n",
       "      <td>Je le fais déjà</td>\n",
       "      <td>1.0</td>\n",
       "      <td>5.0</td>\n",
       "      <td>1.0</td>\n",
       "      <td>NaN</td>\n",
       "      <td>NaN</td>\n",
       "    </tr>\n",
       "  </tbody>\n",
       "</table>\n",
       "</div>"
      ]
     },
     "execution_count": 4,
     "metadata": {},
     "output_type": "execute_result"
    }
   ],
   "execution_count": 4
  },
  {
   "metadata": {
    "ExecuteTime": {
     "end_time": "2024-05-29T14:51:11.380859Z",
     "start_time": "2024-05-29T14:51:11.378223Z"
    }
   },
   "cell_type": "code",
   "source": [
    "nationality = \"Question sur la nationalité // Question about nationality\"\n",
    "nationality_swiss = \"J'ai la nationalité suisse // I have the Swiss nationality\"\n",
    "\n",
    "opinion_str = \"Opinion - Est-ce que tu es d'accord avec la proposition de triplement des taxes d'étude pour les étudiant·e·s étranger·ère·s ? // Do you agree with the proposal to triple the tuition fees for international students?\""
   ],
   "id": "632afda046a4892b",
   "outputs": [],
   "execution_count": 5
  },
  {
   "metadata": {
    "ExecuteTime": {
     "end_time": "2024-05-29T14:51:12.076914Z",
     "start_time": "2024-05-29T14:51:12.071886Z"
    }
   },
   "cell_type": "code",
   "source": [
    "swiss = 1 * (df[nationality] == nationality_swiss)\n",
    "opinion = df[opinion_str]"
   ],
   "id": "6e38101fd00522c5",
   "outputs": [],
   "execution_count": 6
  },
  {
   "metadata": {
    "ExecuteTime": {
     "end_time": "2024-05-29T14:54:41.082406Z",
     "start_time": "2024-05-29T14:54:41.077427Z"
    }
   },
   "cell_type": "code",
   "source": [
    "nan_mask = np.isnan(opinion) | np.isnan(swiss)\n",
    "swiss = swiss[~nan_mask]\n",
    "opinion = opinion[~nan_mask]"
   ],
   "id": "7f48b192b4540923",
   "outputs": [],
   "execution_count": 12
  },
  {
   "metadata": {
    "ExecuteTime": {
     "end_time": "2024-05-29T14:54:41.786553Z",
     "start_time": "2024-05-29T14:54:41.779233Z"
    }
   },
   "cell_type": "code",
   "source": "swiss",
   "id": "1d319fa4f9f01484",
   "outputs": [
    {
     "data": {
      "text/plain": [
       "0      0\n",
       "1      0\n",
       "2      0\n",
       "3      0\n",
       "4      0\n",
       "      ..\n",
       "976    0\n",
       "977    1\n",
       "978    0\n",
       "979    1\n",
       "980    0\n",
       "Name: Question sur la nationalité // Question about nationality, Length: 976, dtype: int64"
      ]
     },
     "execution_count": 13,
     "metadata": {},
     "output_type": "execute_result"
    }
   ],
   "execution_count": 13
  },
  {
   "metadata": {
    "ExecuteTime": {
     "end_time": "2024-05-29T14:54:42.570823Z",
     "start_time": "2024-05-29T14:54:42.564040Z"
    }
   },
   "cell_type": "code",
   "source": "opinion",
   "id": "5055ef2ae45539b8",
   "outputs": [
    {
     "data": {
      "text/plain": [
       "0      1.0\n",
       "1      5.0\n",
       "2      1.0\n",
       "3      1.0\n",
       "4      1.0\n",
       "      ... \n",
       "976    1.0\n",
       "977    1.0\n",
       "978    1.0\n",
       "979    1.0\n",
       "980    1.0\n",
       "Name: Opinion - Est-ce que tu es d'accord avec la proposition de triplement des taxes d'étude pour les étudiant·e·s étranger·ère·s ? // Do you agree with the proposal to triple the tuition fees for international students?, Length: 976, dtype: float64"
      ]
     },
     "execution_count": 14,
     "metadata": {},
     "output_type": "execute_result"
    }
   ],
   "execution_count": 14
  },
  {
   "metadata": {
    "ExecuteTime": {
     "end_time": "2024-05-29T14:54:48.923151Z",
     "start_time": "2024-05-29T14:54:48.916251Z"
    }
   },
   "cell_type": "code",
   "source": "stats.pearsonr(opinion, swiss)",
   "id": "513027dc0ce3f743",
   "outputs": [
    {
     "data": {
      "text/plain": [
       "PearsonRResult(statistic=0.5078352570214655, pvalue=4.137276607423151e-65)"
      ]
     },
     "execution_count": 15,
     "metadata": {},
     "output_type": "execute_result"
    }
   ],
   "execution_count": 15
  },
  {
   "metadata": {
    "ExecuteTime": {
     "end_time": "2024-05-29T14:59:48.605474Z",
     "start_time": "2024-05-29T14:59:48.600593Z"
    }
   },
   "cell_type": "code",
   "source": "np.mean(df[opinion_str])",
   "id": "f1c295d1964c3edc",
   "outputs": [
    {
     "data": {
      "text/plain": [
       "1.716188524590164"
      ]
     },
     "execution_count": 17,
     "metadata": {},
     "output_type": "execute_result"
    }
   ],
   "execution_count": 17
  },
  {
   "metadata": {
    "ExecuteTime": {
     "end_time": "2024-05-29T15:00:09.973756Z",
     "start_time": "2024-05-29T15:00:09.967691Z"
    }
   },
   "cell_type": "code",
   "source": "np.mean(df[df[nationality] == nationality_swiss][opinion_str])",
   "id": "5a5fe09bf14e9ed0",
   "outputs": [
    {
     "data": {
      "text/plain": [
       "2.761744966442953"
      ]
     },
     "execution_count": 18,
     "metadata": {},
     "output_type": "execute_result"
    }
   ],
   "execution_count": 18
  },
  {
   "metadata": {
    "ExecuteTime": {
     "end_time": "2024-05-29T15:07:06.597686Z",
     "start_time": "2024-05-29T15:07:06.449205Z"
    }
   },
   "cell_type": "code",
   "source": "plt.hist(df[opinion_str]);",
   "id": "887d6adea5cbc641",
   "outputs": [
    {
     "data": {
      "text/plain": [
       "<Figure size 640x480 with 1 Axes>"
      ],
      "image/png": "[encoded data removed]"
     },
     "metadata": {},
     "output_type": "display_data"
    }
   ],
   "execution_count": 25
  },
  {
   "metadata": {
    "ExecuteTime": {
     "end_time": "2024-05-29T15:07:10.469518Z",
     "start_time": "2024-05-29T15:07:10.331008Z"
    }
   },
   "cell_type": "code",
   "source": "plt.hist(df[df[nationality] == nationality_swiss][opinion_str]);",
   "id": "1f303497b0b0b94",
   "outputs": [
    {
     "data": {
      "text/plain": [
       "<Figure size 640x480 with 1 Axes>"
      ],
      "image/png": "[encoded data removed]"
     },
     "metadata": {},
     "output_type": "display_data"
    }
   ],
   "execution_count": 26
  },
  {
   "metadata": {
    "ExecuteTime": {
     "end_time": "2024-05-29T15:03:54.114926Z",
     "start_time": "2024-05-29T15:03:54.108576Z"
    }
   },
   "cell_type": "code",
   "source": "len(df[df[nationality] == nationality_swiss][opinion_str])",
   "id": "af7755dec0399c7c",
   "outputs": [
    {
     "data": {
      "text/plain": [
       "300"
      ]
     },
     "execution_count": 24,
     "metadata": {},
     "output_type": "execute_result"
    }
   ],
   "execution_count": 24
  },
  {
   "metadata": {},
   "cell_type": "code",
   "outputs": [],
   "execution_count": null,
   "source": "",
   "id": "77147f1db04be3d8"
  }
 ],
 "metadata": {
  "kernelspec": {
   "display_name": "Python 3",
   "language": "python",
   "name": "python3"
  },
  "language_info": {
   "codemirror_mode": {
    "name": "ipython",
    "version": 2
   },
   "file_extension": ".py",
   "mimetype": "text/x-python",
   "name": "python",
   "nbconvert_exporter": "python",
   "pygments_lexer": "ipython2",
   "version": "2.7.6"
  }
 },
 "nbformat": 4,
 "nbformat_minor": 5
}
